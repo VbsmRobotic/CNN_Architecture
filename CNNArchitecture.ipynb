{
  "nbformat": 4,
  "nbformat_minor": 0,
  "metadata": {
    "colab": {
      "provenance": [],
      "authorship_tag": "ABX9TyPGYvC+4BWgZkLLmhRUly+9",
      "include_colab_link": true
    },
    "kernelspec": {
      "name": "python3",
      "display_name": "Python 3"
    },
    "language_info": {
      "name": "python"
    }
  },
  "cells": [
    {
      "cell_type": "markdown",
      "metadata": {
        "id": "view-in-github",
        "colab_type": "text"
      },
      "source": [
        "<a href=\"https://colab.research.google.com/github/VbsmRobotic/CNN_Architecture/blob/main/CNNArchitecture.ipynb\" target=\"_parent\"><img src=\"https://colab.research.google.com/assets/colab-badge.svg\" alt=\"Open In Colab\"/></a>"
      ]
    },
    {
      "cell_type": "code",
      "execution_count": 2,
      "metadata": {
        "id": "7Qsg8rQKhHXZ"
      },
      "outputs": [],
      "source": [
        "import numpy as np\n",
        "import matplotlib.pyplot as plt\n",
        "from scipy import ndimage"
      ]
    },
    {
      "cell_type": "markdown",
      "source": [
        "# Step 1: Create a 7*7 image"
      ],
      "metadata": {
        "id": "xXIe5wKOm-uI"
      }
    },
    {
      "cell_type": "code",
      "source": [
        "# Step 1: Create a 7x7 image with a white square in the center\n",
        "image = np.zeros((7, 7), dtype=np.float32)\n",
        "image[2:5, 2:5] = 255  # white 3x3 square"
      ],
      "metadata": {
        "id": "aNhkd0iinAOv"
      },
      "execution_count": 5,
      "outputs": []
    },
    {
      "cell_type": "markdown",
      "source": [
        "## Step 2: Define a Sobel filter\n"
      ],
      "metadata": {
        "id": "mLPp63m5nN5o"
      }
    },
    {
      "cell_type": "code",
      "source": [
        "# Step 2: Define a Sobel filter to detect vertical edges\n",
        "sobel_x = np.array([\n",
        "    [-1, 0, 1],\n",
        "    [-2, 0, 2],\n",
        "    [-1, 0, 1]\n",
        "], dtype=np.float32)"
      ],
      "metadata": {
        "id": "yMJgoGjpnTU5"
      },
      "execution_count": 6,
      "outputs": []
    }
  ]
}