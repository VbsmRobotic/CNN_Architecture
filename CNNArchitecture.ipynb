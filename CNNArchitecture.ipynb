{
  "nbformat": 4,
  "nbformat_minor": 0,
  "metadata": {
    "colab": {
      "provenance": [],
      "authorship_tag": "ABX9TyPdIv9FGozoN4WHHPIC82ps",
      "include_colab_link": true
    },
    "kernelspec": {
      "name": "python3",
      "display_name": "Python 3"
    },
    "language_info": {
      "name": "python"
    }
  },
  "cells": [
    {
      "cell_type": "markdown",
      "metadata": {
        "id": "view-in-github",
        "colab_type": "text"
      },
      "source": [
        "<a href=\"https://colab.research.google.com/github/VbsmRobotic/CNN_Architecture/blob/main/CNNArchitecture.ipynb\" target=\"_parent\"><img src=\"https://colab.research.google.com/assets/colab-badge.svg\" alt=\"Open In Colab\"/></a>"
      ]
    },
    {
      "cell_type": "code",
      "execution_count": 13,
      "metadata": {
        "id": "7Qsg8rQKhHXZ"
      },
      "outputs": [],
      "source": [
        "import numpy as np\n",
        "import matplotlib.pyplot as plt\n",
        "from scipy import ndimage"
      ]
    },
    {
      "cell_type": "markdown",
      "source": [
        "# Step 1: Create a 7*7 image"
      ],
      "metadata": {
        "id": "xXIe5wKOm-uI"
      }
    },
    {
      "cell_type": "code",
      "source": [
        "# Step 1: Create a 7x7 image with a white square in the center\n",
        "image = np.zeros((7, 7), dtype=np.float32)\n",
        "image[2:5, 2:5] = 255  # white 3x3 square"
      ],
      "metadata": {
        "id": "aNhkd0iinAOv"
      },
      "execution_count": 12,
      "outputs": []
    },
    {
      "cell_type": "markdown",
      "source": [
        "## Step 2: Define a Sobel filter\n"
      ],
      "metadata": {
        "id": "mLPp63m5nN5o"
      }
    },
    {
      "cell_type": "code",
      "source": [
        "# Step 2: Define a Sobel filter to detect vertical edges\n",
        "sobel_x = np.array([\n",
        "    [-1, 0, 1],\n",
        "    [-2, 0, 2],\n",
        "    [-1, 0, 1]\n",
        "], dtype=np.float32)"
      ],
      "metadata": {
        "id": "yMJgoGjpnTU5"
      },
      "execution_count": 11,
      "outputs": []
    },
    {
      "cell_type": "markdown",
      "source": [
        "## Step 3: Convolve the image with the Sobel filter"
      ],
      "metadata": {
        "id": "C45p_4u9nlmK"
      }
    },
    {
      "cell_type": "code",
      "source": [
        "# Step 3: Convolve the image with the Sobel filter\n",
        "convolved = ndimage.convolve(image, sobel_x, mode='constant', cval=0.0)\n"
      ],
      "metadata": {
        "id": "JuRZOqIcnpm2"
      },
      "execution_count": 10,
      "outputs": []
    },
    {
      "cell_type": "markdown",
      "source": [
        "## Step 4: Display the original and convolved image"
      ],
      "metadata": {
        "id": "_r7ScAwLnuBe"
      }
    },
    {
      "cell_type": "code",
      "source": [
        "# Step 4: Display the original and convolved image\n",
        "plt.figure(figsize=(10, 4))\n",
        "\n",
        "plt.subplot(1, 2, 1)\n",
        "plt.title('Original Image (White Square)')\n",
        "plt.imshow(image, cmap='gray', vmin=0, vmax=255)\n",
        "plt.axis('off')\n",
        "\n",
        "plt.subplot(1, 2, 2)\n",
        "plt.title('Convolved Image (Sobel X)')\n",
        "plt.imshow(convolved, cmap='gray')\n",
        "plt.axis('off')\n",
        "\n",
        "plt.tight_layout()\n",
        "plt.show()"
      ],
      "metadata": {
        "colab": {
          "base_uri": "https://localhost:8080/",
          "height": 407
        },
        "id": "6vtfhssdnyJU",
        "outputId": "5bea9335-fc37-483b-c99c-adb5f554ac8f"
      },
      "execution_count": 9,
      "outputs": [
        {
          "output_type": "display_data",
          "data": {
            "text/plain": [
              "<Figure size 1000x400 with 2 Axes>"
            ],
            "image/png": "[encoded data removed]"
          },
          "metadata": {}
        }
      ]
    }
  ]
}